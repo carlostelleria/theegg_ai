{
 "cells": [
  {
   "cell_type": "markdown",
   "id": "7131bf71",
   "metadata": {},
   "source": [
    "# Máximo de 3 números"
   ]
  },
  {
   "cell_type": "code",
   "execution_count": 10,
   "id": "4a2ae635",
   "metadata": {},
   "outputs": [
    {
     "name": "stdout",
     "output_type": "stream",
     "text": [
      "5\n"
     ]
    }
   ],
   "source": [
    "a=1\n",
    "b=5\n",
    "c=4\n",
    "mayor = a\n",
    "\n",
    "if b > a:\n",
    "    if b > c:\n",
    "        mayor = b\n",
    "    else:\n",
    "        mayor = c\n",
    "elif c > a:\n",
    "    mayor = c\n",
    "    \n",
    "print(mayor)"
   ]
  },
  {
   "cell_type": "markdown",
   "id": "b62fa405",
   "metadata": {},
   "source": [
    "# Programa que diga la longitud de una frase\n",
    "### Suponermos la frase terminada con un punto (.)"
   ]
  },
  {
   "cell_type": "code",
   "execution_count": 12,
   "id": "15bfb473",
   "metadata": {},
   "outputs": [
    {
     "name": "stdout",
     "output_type": "stream",
     "text": [
      "31\n"
     ]
    }
   ],
   "source": [
    "frase = \"Dábale arroz a la zorra el abad.\"\n",
    "\n",
    "longitud=0\n",
    "while frase[longitud] != '.':\n",
    "    longitud = longitud + 1\n",
    "print (longitud)"
   ]
  },
  {
   "cell_type": "markdown",
   "id": "d1340ad1",
   "metadata": {},
   "source": [
    "# Programa que determine si un carácter previamente dado es vocal o no"
   ]
  },
  {
   "cell_type": "code",
   "execution_count": 22,
   "id": "453e5d84",
   "metadata": {},
   "outputs": [
    {
     "name": "stdout",
     "output_type": "stream",
     "text": [
      "True\n"
     ]
    }
   ],
   "source": [
    "vocales = 'aeiouAEIOU'\n",
    "letra = 'A'\n",
    "es_vocal = False\n",
    "\n",
    "for l in vocales:\n",
    "    if letra == l:\n",
    "        es_vocal = True\n",
    "\n",
    "        \n",
    "print (es_vocal)"
   ]
  },
  {
   "cell_type": "markdown",
   "id": "310dc796",
   "metadata": {},
   "source": [
    "# Programa que sume los valores de una lista"
   ]
  },
  {
   "cell_type": "code",
   "execution_count": 24,
   "id": "337706b9",
   "metadata": {},
   "outputs": [
    {
     "name": "stdout",
     "output_type": "stream",
     "text": [
      "28.79\n"
     ]
    }
   ],
   "source": [
    "lista = [4,5,1.4,7,8.25,3.14]\n",
    "\n",
    "suma = 0\n",
    "for n in lista:\n",
    "    suma += n\n",
    "    \n",
    "print(suma)"
   ]
  },
  {
   "cell_type": "markdown",
   "id": "96ab23b3",
   "metadata": {},
   "source": [
    "# Programa que diga si una palabra es un palíndromo"
   ]
  },
  {
   "cell_type": "code",
   "execution_count": 35,
   "id": "b0b62ba0",
   "metadata": {},
   "outputs": [
    {
     "name": "stdout",
     "output_type": "stream",
     "text": [
      "True\n"
     ]
    }
   ],
   "source": [
    "texto = 'dabalearrozalazorraelabad'\n",
    "\n",
    "es_palindromo = True\n",
    "for i in range(len(texto)):\n",
    "    if texto[i] != texto[-i-1]:\n",
    "        es_palindromo = False\n",
    "        \n",
    "print(es_palindromo)"
   ]
  },
  {
   "cell_type": "markdown",
   "id": "be2c9196",
   "metadata": {},
   "source": [
    "# Programa que compare os listas y encuentre si hay algún valor coincidente "
   ]
  },
  {
   "cell_type": "code",
   "execution_count": 41,
   "id": "c10b377f",
   "metadata": {},
   "outputs": [
    {
     "name": "stdout",
     "output_type": "stream",
     "text": [
      "Hay coincidencia en el elemento True\n"
     ]
    }
   ],
   "source": [
    "lista1 = [4,5,1.4,7,8.25,3.14, True]\n",
    "lista2 = ['hola', 25, True, 3.14, 85]\n",
    "\n",
    "hay_coincidentes = False\n",
    "\n",
    "for l1 in lista1:\n",
    "    for l2 in lista2:\n",
    "        if l1 == l2:\n",
    "            coincidente = l1\n",
    "            hay_coincidentes = True\n",
    "            \n",
    "if hay_coincidentes:\n",
    "    print(\"Hay coincidencia en el elemento \" + str(coincidente) )\n",
    "else:\n",
    "    print(\"No hay coincidencia entre las dos listas\")\n",
    "\n"
   ]
  }
 ],
 "metadata": {
  "kernelspec": {
   "display_name": "Python 3 (ipykernel)",
   "language": "python",
   "name": "python3"
  },
  "language_info": {
   "codemirror_mode": {
    "name": "ipython",
    "version": 3
   },
   "file_extension": ".py",
   "mimetype": "text/x-python",
   "name": "python",
   "nbconvert_exporter": "python",
   "pygments_lexer": "ipython3",
   "version": "3.10.3"
  }
 },
 "nbformat": 4,
 "nbformat_minor": 5
}
